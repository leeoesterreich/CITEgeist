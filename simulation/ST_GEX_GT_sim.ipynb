{
 "cells": [
  {
   "cell_type": "code",
   "execution_count": 1,
   "id": "dc2af510-d295-45cb-91c6-d0a2de5b9557",
   "metadata": {},
   "outputs": [],
   "source": [
    "import pandas as pd\n",
    "import numpy as np\n",
    "import os"
   ]
  },
  {
   "cell_type": "code",
   "execution_count": 2,
   "id": "3f546190-ab30-49bb-9c74-cec814f8ad6b",
   "metadata": {},
   "outputs": [],
   "source": [
    "import scanpy as sc"
   ]
  },
  {
   "cell_type": "code",
   "execution_count": 3,
   "id": "13b825a3-12bc-4be8-b1ff-973c870b41f1",
   "metadata": {},
   "outputs": [],
   "source": [
    "import os\n",
    "import pandas as pd\n",
    "import numpy as np\n",
    "\n",
    "def generate_ground_truth_gex_for_samples(st_path, sc_path, output_base_dir, num_samples=5):\n",
    "    \"\"\"\n",
    "    Generates ground-truth gene expression matrices for multiple samples, saving them in separate folders for each sample.\n",
    "\n",
    "    Parameters:\n",
    "    - st_path (str): Base path to the spot index files.\n",
    "    - sc_path (str): Base path to the single-cell data files.\n",
    "    - output_base_dir (str): Base directory to save ground-truth matrices.\n",
    "    - num_samples (int): Number of samples (default: 5).\n",
    "    \"\"\"\n",
    "    cell_types = [\n",
    "        \"B-cells\",\n",
    "        \"Cancer Epithelial\",\n",
    "        \"Myeloid\",\n",
    "        \"PVL\",\n",
    "        \"T-cells\",\n",
    "        \"CAFs\",\n",
    "        \"Endothelial\",\n",
    "        \"Normal Epithelial\",\n",
    "        \"Plasmablasts\"\n",
    "    ]\n",
    "    \n",
    "    for i in range(num_samples):\n",
    "        # Construct file paths for the current sample\n",
    "        index_path = os.path.join(st_path, f\"Wu_ST_{i}_index.csv\")\n",
    "        data_path = os.path.join(sc_path, f\"Wu_SC_{i}_data.csv\")\n",
    "        \n",
    "        # Load the data\n",
    "        index_df = pd.read_csv(index_path)\n",
    "        data_df = pd.read_csv(data_path, index_col=0)\n",
    "        \n",
    "        # Convert log-normalized counts to regular counts\n",
    "        counts_df = np.expm1(data_df).round()\n",
    "        \n",
    "        # Sort genes alphabetically\n",
    "        counts_df = counts_df.sort_index()\n",
    "        \n",
    "        # Sort spots numerically based on the number in the 'spot' column\n",
    "        index_df['spot_num'] = index_df['spot'].str.extract(r'spot_(\\d+)').astype(int)\n",
    "        index_df = index_df.sort_values(by='spot_num')\n",
    "        \n",
    "        # Get the sorted list of all unique spots\n",
    "        all_spots = index_df['spot'].unique()\n",
    "        \n",
    "        # Initialize a dictionary to store ground-truth matrices for each cell type\n",
    "        ground_truth_matrices = {}\n",
    "        \n",
    "        # Loop through all specified cell types\n",
    "        for cell_type in cell_types:\n",
    "            if cell_type in index_df['Cell_type'].unique():\n",
    "                # Filter cells for the current cell type\n",
    "                cell_type_df = index_df[index_df['Cell_type'] == cell_type]\n",
    "                \n",
    "                # Initialize a DataFrame with zeros for all spots and genes, sorted\n",
    "                cell_type_counts = pd.DataFrame(0, index=all_spots, columns=counts_df.index)\n",
    "                \n",
    "                # Dictionary to store aggregated expression for each spot\n",
    "                spot_expression_dict = {}\n",
    "                \n",
    "                # Aggregate expression per spot\n",
    "                for spot in cell_type_df['spot'].unique():\n",
    "                    # Get cells that map to this spot for the current cell type\n",
    "                    spot_cells = cell_type_df[cell_type_df['spot'] == spot]['Cell']\n",
    "                    \n",
    "                    # Sum expression for these cells across genes\n",
    "                    spot_expression_dict[spot] = counts_df[spot_cells].sum(axis=1)\n",
    "                \n",
    "                # Add calculated spot expressions to cell_type_counts DataFrame\n",
    "                for spot, expression in spot_expression_dict.items():\n",
    "                    cell_type_counts.loc[spot] = expression\n",
    "                \n",
    "                # Store the resulting spot x gene matrix for this cell type\n",
    "                ground_truth_matrices[cell_type] = cell_type_counts\n",
    "            else:\n",
    "                # If the cell type is not present, create a zero matrix\n",
    "                ground_truth_matrices[cell_type] = pd.DataFrame(0, index=all_spots, columns=counts_df.index)\n",
    "        \n",
    "        # Define output directory for the current sample\n",
    "        sample_output_dir = os.path.join(output_base_dir, f\"sample_{i}\", \"layers\")\n",
    "        os.makedirs(sample_output_dir, exist_ok=True)\n",
    "        \n",
    "        # Write each cell type's DataFrame to a CSV file\n",
    "        for cell_type, df in ground_truth_matrices.items():\n",
    "            filename = f\"{cell_type}_GT.csv\"\n",
    "            filepath = os.path.join(sample_output_dir, filename)\n",
    "            df.to_csv(filepath)\n",
    "        \n",
    "        print(f\"Ground-truth matrices for sample {i} saved in '{sample_output_dir}' directory.\")"
   ]
  },
  {
   "cell_type": "code",
   "execution_count": 4,
   "id": "b29f0dee-70db-4f09-a797-d6fed8168673",
   "metadata": {},
   "outputs": [
    {
     "name": "stdout",
     "output_type": "stream",
     "text": [
      "Ground-truth matrices for sample 0 saved in '/bgfs/alee/LO_LAB/Personal/Brent_Schlegel/Projects/Wu_Visium/Simulations/scCube_12k/replicates/mixed/ST_GEX_sim/sample_0/layers' directory.\n",
      "Ground-truth matrices for sample 1 saved in '/bgfs/alee/LO_LAB/Personal/Brent_Schlegel/Projects/Wu_Visium/Simulations/scCube_12k/replicates/mixed/ST_GEX_sim/sample_1/layers' directory.\n",
      "Ground-truth matrices for sample 2 saved in '/bgfs/alee/LO_LAB/Personal/Brent_Schlegel/Projects/Wu_Visium/Simulations/scCube_12k/replicates/mixed/ST_GEX_sim/sample_2/layers' directory.\n",
      "Ground-truth matrices for sample 3 saved in '/bgfs/alee/LO_LAB/Personal/Brent_Schlegel/Projects/Wu_Visium/Simulations/scCube_12k/replicates/mixed/ST_GEX_sim/sample_3/layers' directory.\n",
      "Ground-truth matrices for sample 4 saved in '/bgfs/alee/LO_LAB/Personal/Brent_Schlegel/Projects/Wu_Visium/Simulations/scCube_12k/replicates/mixed/ST_GEX_sim/sample_4/layers' directory.\n"
     ]
    }
   ],
   "source": [
    "generate_ground_truth_gex_for_samples(\n",
    "    st_path = \"/bgfs/alee/LO_LAB/Personal/Brent_Schlegel/Projects/Wu_Visium/Simulations/scCube_12k/replicates/mixed/ST_sim\",\n",
    "    sc_path = \"/bgfs/alee/LO_LAB/Personal/Brent_Schlegel/Projects/Wu_Visium/Simulations/scCube_12k/replicates/mixed/SC_sim\",\n",
    "    output_base_dir = \"/bgfs/alee/LO_LAB/Personal/Brent_Schlegel/Projects/Wu_Visium/Simulations/scCube_12k/replicates/mixed/ST_GEX_sim\"\n",
    ")"
   ]
  },
  {
   "cell_type": "code",
   "execution_count": 5,
   "id": "8a0e201b-d2f4-41da-931d-d9497c4c3a7d",
   "metadata": {},
   "outputs": [
    {
     "name": "stdout",
     "output_type": "stream",
     "text": [
      "Ground-truth matrices for sample 0 saved in '/bgfs/alee/LO_LAB/Personal/Brent_Schlegel/Projects/Wu_Visium/Simulations/scCube_12k/replicates/high_seg/ST_GEX_sim/sample_0/layers' directory.\n",
      "Ground-truth matrices for sample 1 saved in '/bgfs/alee/LO_LAB/Personal/Brent_Schlegel/Projects/Wu_Visium/Simulations/scCube_12k/replicates/high_seg/ST_GEX_sim/sample_1/layers' directory.\n",
      "Ground-truth matrices for sample 2 saved in '/bgfs/alee/LO_LAB/Personal/Brent_Schlegel/Projects/Wu_Visium/Simulations/scCube_12k/replicates/high_seg/ST_GEX_sim/sample_2/layers' directory.\n",
      "Ground-truth matrices for sample 3 saved in '/bgfs/alee/LO_LAB/Personal/Brent_Schlegel/Projects/Wu_Visium/Simulations/scCube_12k/replicates/high_seg/ST_GEX_sim/sample_3/layers' directory.\n",
      "Ground-truth matrices for sample 4 saved in '/bgfs/alee/LO_LAB/Personal/Brent_Schlegel/Projects/Wu_Visium/Simulations/scCube_12k/replicates/high_seg/ST_GEX_sim/sample_4/layers' directory.\n"
     ]
    }
   ],
   "source": [
    "generate_ground_truth_gex_for_samples(\n",
    "    st_path = \"/bgfs/alee/LO_LAB/Personal/Brent_Schlegel/Projects/Wu_Visium/Simulations/scCube_12k/replicates/high_seg/ST_sim\",\n",
    "    sc_path = \"/bgfs/alee/LO_LAB/Personal/Brent_Schlegel/Projects/Wu_Visium/Simulations/scCube_12k/replicates/high_seg/SC_sim\",\n",
    "    output_base_dir = \"/bgfs/alee/LO_LAB/Personal/Brent_Schlegel/Projects/Wu_Visium/Simulations/scCube_12k/replicates/high_seg/ST_GEX_sim\"\n",
    ")"
   ]
  }
 ],
 "metadata": {
  "kernelspec": {
   "display_name": "Python 3 (ipykernel)",
   "language": "python",
   "name": "python3"
  },
  "language_info": {
   "codemirror_mode": {
    "name": "ipython",
    "version": 3
   },
   "file_extension": ".py",
   "mimetype": "text/x-python",
   "name": "python",
   "nbconvert_exporter": "python",
   "pygments_lexer": "ipython3",
   "version": "3.8.20"
  }
 },
 "nbformat": 4,
 "nbformat_minor": 5
}
