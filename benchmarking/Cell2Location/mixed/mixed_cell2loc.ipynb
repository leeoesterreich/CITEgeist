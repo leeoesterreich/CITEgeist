{
 "cells": [
  {
   "cell_type": "code",
   "execution_count": 1,
   "id": "7711e8a6-9ceb-4a76-8014-cb190ed2598c",
   "metadata": {},
   "outputs": [
    {
     "name": "stderr",
     "output_type": "stream",
     "text": [
      "/bgfs/alee/LO_LAB/Personal/Brent_Schlegel/envs/CITEgeist/lib/python3.10/site-packages/scvi/_settings.py:63: UserWarning: Since v1.0.0, scvi-tools no longer uses a random seed by default. Run `scvi.settings.seed = 0` to reproduce results from previous versions.\n",
      "  self.seed = seed\n",
      "/bgfs/alee/LO_LAB/Personal/Brent_Schlegel/envs/CITEgeist/lib/python3.10/site-packages/scvi/_settings.py:70: UserWarning: Setting `dl_pin_memory_gpu_training` is deprecated in v1.0 and will be removed in v1.1. Please pass in `pin_memory` to the data loaders instead.\n",
      "  self.dl_pin_memory_gpu_training = (\n",
      "/bgfs/alee/LO_LAB/Personal/Brent_Schlegel/envs/CITEgeist/lib/python3.10/site-packages/anndata/utils.py:429: FutureWarning: Importing read_csv from `anndata` is deprecated. Import anndata.io.read_csv instead.\n",
      "  warnings.warn(msg, FutureWarning)\n",
      "/bgfs/alee/LO_LAB/Personal/Brent_Schlegel/envs/CITEgeist/lib/python3.10/site-packages/anndata/utils.py:429: FutureWarning: Importing read_loom from `anndata` is deprecated. Import anndata.io.read_loom instead.\n",
      "  warnings.warn(msg, FutureWarning)\n",
      "/bgfs/alee/LO_LAB/Personal/Brent_Schlegel/envs/CITEgeist/lib/python3.10/site-packages/anndata/utils.py:429: FutureWarning: Importing read_text from `anndata` is deprecated. Import anndata.io.read_text instead.\n",
      "  warnings.warn(msg, FutureWarning)\n",
      "/bgfs/alee/LO_LAB/Personal/Brent_Schlegel/envs/CITEgeist/lib/python3.10/site-packages/anndata/utils.py:429: FutureWarning: Importing read_elem from `anndata.experimental` is deprecated. Import anndata.io.read_elem instead.\n",
      "  warnings.warn(msg, FutureWarning)\n",
      "/bgfs/alee/LO_LAB/Personal/Brent_Schlegel/envs/CITEgeist/lib/python3.10/site-packages/tqdm/auto.py:21: TqdmWarning: IProgress not found. Please update jupyter and ipywidgets. See https://ipywidgets.readthedocs.io/en/stable/user_install.html\n",
      "  from .autonotebook import tqdm as notebook_tqdm\n"
     ]
    }
   ],
   "source": [
    "import os\n",
    "import sys\n",
    "import gc\n",
    "\n",
    "import scipy.stats as stats\n",
    "import scvi\n",
    "import numpy as np\n",
    "import pandas as pd\n",
    "import scanpy as sc\n",
    "from anndata import AnnData\n",
    "from fast_matrix_market import mmread\n",
    "\n",
    "import scipy\n",
    "from scipy.spatial.distance import jensenshannon\n",
    "from scipy.stats import pearsonr\n",
    "\n",
    "import matplotlib.pyplot as plt\n",
    "import matplotlib as mpl\n",
    "from matplotlib import rcParams\n",
    "\n",
    "import torch\n",
    "import cell2location\n",
    "\n",
    "# Set matplotlib parameters\n",
    "rcParams['pdf.fonttype'] = 42  # Enables correct plotting of text for PDFs"
   ]
  },
  {
   "cell_type": "code",
   "execution_count": 2,
   "id": "f9c7058f-b1cc-40a4-9c88-f1bb4fd2b467",
   "metadata": {},
   "outputs": [
    {
     "name": "stdout",
     "output_type": "stream",
     "text": [
      "\u001b[34mINFO    \u001b[0m File                                                                                                      \n",
      "         \u001b[35m/bgfs/alee/LO_LAB/Personal/Brent_Schlegel/Projects/Wu_Visium/Simulations/larger_ref/cell2location/referenc\u001b[0m\n",
      "         \u001b[35me_signatures/\u001b[0m\u001b[95mmodel.pt\u001b[0m already downloaded                                                                  \n"
     ]
    },
    {
     "name": "stderr",
     "output_type": "stream",
     "text": [
      "/bgfs/alee/LO_LAB/Personal/Brent_Schlegel/envs/CITEgeist/lib/python3.10/site-packages/scvi/model/base/_utils.py:68: FutureWarning: You are using `torch.load` with `weights_only=False` (the current default value), which uses the default pickle module implicitly. It is possible to construct malicious pickle data which will execute arbitrary code during unpickling (See https://github.com/pytorch/pytorch/blob/main/SECURITY.md#untrusted-models for more details). In a future release, the default value for `weights_only` will be flipped to `True`. This limits the functions that could be executed during unpickling. Arbitrary objects will no longer be allowed to be loaded via this mode unless they are explicitly allowlisted by the user via `torch.serialization.add_safe_globals`. We recommend you start setting `weights_only=True` for any use case where you don't have full control of the loaded file. Please open an issue on GitHub for any issues related to this experimental feature.\n",
      "  model = torch.load(model_path, map_location=map_location)\n",
      "CUDA backend failed to initialize: Unable to load cuDNN. Is it installed? (Set TF_CPP_MIN_LOG_LEVEL=0 and rerun for more info.)\n",
      "GPU available: True (cuda), used: True\n",
      "TPU available: False, using: 0 TPU cores\n",
      "IPU available: False, using: 0 IPUs\n",
      "HPU available: False, using: 0 HPUs\n",
      "/bgfs/alee/LO_LAB/Personal/Brent_Schlegel/envs/CITEgeist/lib/python3.10/site-packages/lightning/pytorch/trainer/configuration_validator.py:69: UserWarning: You passed in a `val_dataloader` but have no `validation_step`. Skipping val loop.\n",
      "  rank_zero_warn(\"You passed in a `val_dataloader` but have no `validation_step`. Skipping val loop.\")\n",
      "You are using a CUDA device ('NVIDIA A100-PCIE-40GB') that has Tensor Cores. To properly utilize them, you should set `torch.set_float32_matmul_precision('medium' | 'high')` which will trade-off precision for performance. For more details, read https://pytorch.org/docs/stable/generated/torch.set_float32_matmul_precision.html#torch.set_float32_matmul_precision\n",
      "LOCAL_RANK: 0 - CUDA_VISIBLE_DEVICES: [0]\n",
      "SLURM auto-requeueing enabled. Setting signal handlers.\n"
     ]
    },
    {
     "name": "stdout",
     "output_type": "stream",
     "text": [
      "Epoch 1/523:   0%|          | 1/523 [00:01<13:44,  1.58s/it, v_num=1]"
     ]
    },
    {
     "name": "stderr",
     "output_type": "stream",
     "text": [
      "`Trainer.fit` stopped: `max_steps=1` reached.\n"
     ]
    },
    {
     "name": "stdout",
     "output_type": "stream",
     "text": [
      "Epoch 1/523:   0%|          | 1/523 [00:01<15:15,  1.75s/it, v_num=1]\n"
     ]
    }
   ],
   "source": [
    "results_folder = '/bgfs/alee/LO_LAB/Personal/Brent_Schlegel/Projects/Wu_Visium/Simulations/larger_ref/cell2location/mixed'\n",
    "\n",
    "# create paths and names to results folders for reference regression and cell2location models\n",
    "ref_run_name = '/bgfs/alee/LO_LAB/Personal/Brent_Schlegel/Projects/Wu_Visium/Simulations/larger_ref/cell2location/reference_signatures'\n",
    "run_name = f'{results_folder}/cell2location_map'\n",
    "\n",
    "adata_file = f\"{ref_run_name}/reference_major.h5ad\"\n",
    "adata_ref = sc.read_h5ad(adata_file)\n",
    "mod = cell2location.models.RegressionModel.load(f\"{ref_run_name}\", adata_ref)"
   ]
  },
  {
   "cell_type": "code",
   "execution_count": null,
   "id": "b6e5965a-7e53-4c15-9d2e-556d4c9b8b5a",
   "metadata": {},
   "outputs": [
    {
     "name": "stderr",
     "output_type": "stream",
     "text": [
      "/bgfs/alee/LO_LAB/Personal/Brent_Schlegel/envs/CITEgeist/lib/python3.10/site-packages/scvi/train/_trainrunner.py:76: UserWarning: `use_gpu` is deprecated in v1.0 and will be removed in v1.1. Please use `accelerator` and `devices` instead.\n",
      "  accelerator, lightning_devices, device = parse_device_args(\n",
      "GPU available: True (cuda), used: True\n",
      "TPU available: False, using: 0 TPU cores\n",
      "IPU available: False, using: 0 IPUs\n",
      "HPU available: False, using: 0 HPUs\n",
      "/bgfs/alee/LO_LAB/Personal/Brent_Schlegel/envs/CITEgeist/lib/python3.10/site-packages/lightning/pytorch/trainer/configuration_validator.py:69: UserWarning: You passed in a `val_dataloader` but have no `validation_step`. Skipping val loop.\n",
      "  rank_zero_warn(\"You passed in a `val_dataloader` but have no `validation_step`. Skipping val loop.\")\n",
      "LOCAL_RANK: 0 - CUDA_VISIBLE_DEVICES: [0]\n",
      "SLURM auto-requeueing enabled. Setting signal handlers.\n",
      "/bgfs/alee/LO_LAB/Personal/Brent_Schlegel/envs/CITEgeist/lib/python3.10/site-packages/lightning/pytorch/loops/fit_loop.py:281: PossibleUserWarning: The number of training batches (1) is smaller than the logging interval Trainer(log_every_n_steps=10). Set a lower value for log_every_n_steps if you want to see logs for the training epoch.\n",
      "  rank_zero_warn(\n"
     ]
    },
    {
     "name": "stdout",
     "output_type": "stream",
     "text": [
      "Epoch 30000/30000: 100%|██████████| 30000/30000 [31:10<00:00, 15.98it/s, v_num=1, elbo_train=1.98e+7]"
     ]
    },
    {
     "name": "stderr",
     "output_type": "stream",
     "text": [
      "`Trainer.fit` stopped: `max_epochs=30000` reached.\n"
     ]
    },
    {
     "name": "stdout",
     "output_type": "stream",
     "text": [
      "Epoch 30000/30000: 100%|██████████| 30000/30000 [31:10<00:00, 16.04it/s, v_num=1, elbo_train=1.98e+7]\n"
     ]
    },
    {
     "name": "stderr",
     "output_type": "stream",
     "text": [
      "/bgfs/alee/LO_LAB/Personal/Brent_Schlegel/envs/CITEgeist/lib/python3.10/site-packages/scvi/model/base/_pyromixin.py:388: UserWarning: `use_gpu` is deprecated in v1.0 and will be removed in v1.1. Please use `accelerator` and `devices` instead.\n",
      "  _, _, device = parse_device_args(\n"
     ]
    },
    {
     "name": "stdout",
     "output_type": "stream",
     "text": [
      "Sampling local variables, batch: 100%|██████████| 1/1 [00:41<00:00, 41.76s/it]\n",
      "Sampling global variables, sample: 100%|██████████| 2999/2999 [00:42<00:00, 70.49it/s]\n"
     ]
    },
    {
     "name": "stderr",
     "output_type": "stream",
     "text": [
      "/bgfs/alee/LO_LAB/Personal/Brent_Schlegel/envs/CITEgeist/lib/python3.10/site-packages/numpy/core/_methods.py:176: RuntimeWarning: overflow encountered in multiply\n",
      "  x = um.multiply(x, x, out=x)\n"
     ]
    },
    {
     "name": "stdout",
     "output_type": "stream",
     "text": [
      "WARNING: saving figure to file figures/spatialumap_Wu_rep_0_GEX.pdf\n",
      "WARNING: saving figure to file figures/showWu_rep_0_GEX_B-cells_abundance.pdf\n",
      "WARNING: saving figure to file figures/showWu_rep_0_GEX_CAFs_abundance.pdf\n",
      "WARNING: saving figure to file figures/showWu_rep_0_GEX_Cancer Epithelial_abundance.pdf\n",
      "WARNING: saving figure to file figures/showWu_rep_0_GEX_Endothelial_abundance.pdf\n",
      "WARNING: saving figure to file figures/showWu_rep_0_GEX_Myeloid_abundance.pdf\n",
      "WARNING: saving figure to file figures/showWu_rep_0_GEX_Normal Epithelial_abundance.pdf\n",
      "WARNING: saving figure to file figures/showWu_rep_0_GEX_PVL_abundance.pdf\n",
      "WARNING: saving figure to file figures/showWu_rep_0_GEX_Plasmablasts_abundance.pdf\n",
      "WARNING: saving figure to file figures/showWu_rep_0_GEX_T-cells_abundance.pdf\n",
      "Figures and results saved for Wu_rep_0_GEX\n"
     ]
    },
    {
     "name": "stderr",
     "output_type": "stream",
     "text": [
      "/bgfs/alee/LO_LAB/Personal/Brent_Schlegel/envs/CITEgeist/lib/python3.10/site-packages/scvi/train/_trainrunner.py:76: UserWarning: `use_gpu` is deprecated in v1.0 and will be removed in v1.1. Please use `accelerator` and `devices` instead.\n",
      "  accelerator, lightning_devices, device = parse_device_args(\n",
      "GPU available: True (cuda), used: True\n",
      "TPU available: False, using: 0 TPU cores\n",
      "IPU available: False, using: 0 IPUs\n",
      "HPU available: False, using: 0 HPUs\n",
      "/bgfs/alee/LO_LAB/Personal/Brent_Schlegel/envs/CITEgeist/lib/python3.10/site-packages/lightning/pytorch/trainer/configuration_validator.py:69: UserWarning: You passed in a `val_dataloader` but have no `validation_step`. Skipping val loop.\n",
      "  rank_zero_warn(\"You passed in a `val_dataloader` but have no `validation_step`. Skipping val loop.\")\n",
      "LOCAL_RANK: 0 - CUDA_VISIBLE_DEVICES: [0]\n",
      "SLURM auto-requeueing enabled. Setting signal handlers.\n",
      "/bgfs/alee/LO_LAB/Personal/Brent_Schlegel/envs/CITEgeist/lib/python3.10/site-packages/lightning/pytorch/loops/fit_loop.py:281: PossibleUserWarning: The number of training batches (1) is smaller than the logging interval Trainer(log_every_n_steps=10). Set a lower value for log_every_n_steps if you want to see logs for the training epoch.\n",
      "  rank_zero_warn(\n"
     ]
    },
    {
     "name": "stdout",
     "output_type": "stream",
     "text": [
      "Epoch 30000/30000: 100%|██████████| 30000/30000 [31:15<00:00, 15.87it/s, v_num=1, elbo_train=1.92e+7]"
     ]
    },
    {
     "name": "stderr",
     "output_type": "stream",
     "text": [
      "`Trainer.fit` stopped: `max_epochs=30000` reached.\n"
     ]
    },
    {
     "name": "stdout",
     "output_type": "stream",
     "text": [
      "Epoch 30000/30000: 100%|██████████| 30000/30000 [31:15<00:00, 16.00it/s, v_num=1, elbo_train=1.92e+7]\n"
     ]
    },
    {
     "name": "stderr",
     "output_type": "stream",
     "text": [
      "/bgfs/alee/LO_LAB/Personal/Brent_Schlegel/envs/CITEgeist/lib/python3.10/site-packages/scvi/model/base/_pyromixin.py:388: UserWarning: `use_gpu` is deprecated in v1.0 and will be removed in v1.1. Please use `accelerator` and `devices` instead.\n",
      "  _, _, device = parse_device_args(\n"
     ]
    },
    {
     "name": "stdout",
     "output_type": "stream",
     "text": [
      "Sampling local variables, batch: 100%|██████████| 1/1 [00:40<00:00, 40.97s/it]\n",
      "Sampling global variables, sample: 100%|██████████| 2999/2999 [00:43<00:00, 69.73it/s]\n",
      "WARNING: saving figure to file figures/spatialumap_Wu_rep_1_GEX.pdf\n",
      "WARNING: saving figure to file figures/showWu_rep_1_GEX_B-cells_abundance.pdf\n",
      "WARNING: saving figure to file figures/showWu_rep_1_GEX_CAFs_abundance.pdf\n",
      "WARNING: saving figure to file figures/showWu_rep_1_GEX_Cancer Epithelial_abundance.pdf\n",
      "WARNING: saving figure to file figures/showWu_rep_1_GEX_Endothelial_abundance.pdf\n",
      "WARNING: saving figure to file figures/showWu_rep_1_GEX_Myeloid_abundance.pdf\n",
      "WARNING: saving figure to file figures/showWu_rep_1_GEX_Normal Epithelial_abundance.pdf\n",
      "WARNING: saving figure to file figures/showWu_rep_1_GEX_PVL_abundance.pdf\n",
      "WARNING: saving figure to file figures/showWu_rep_1_GEX_Plasmablasts_abundance.pdf\n",
      "WARNING: saving figure to file figures/showWu_rep_1_GEX_T-cells_abundance.pdf\n",
      "Figures and results saved for Wu_rep_1_GEX\n"
     ]
    },
    {
     "name": "stderr",
     "output_type": "stream",
     "text": [
      "/bgfs/alee/LO_LAB/Personal/Brent_Schlegel/envs/CITEgeist/lib/python3.10/site-packages/scvi/train/_trainrunner.py:76: UserWarning: `use_gpu` is deprecated in v1.0 and will be removed in v1.1. Please use `accelerator` and `devices` instead.\n",
      "  accelerator, lightning_devices, device = parse_device_args(\n",
      "GPU available: True (cuda), used: True\n",
      "TPU available: False, using: 0 TPU cores\n",
      "IPU available: False, using: 0 IPUs\n",
      "HPU available: False, using: 0 HPUs\n",
      "/bgfs/alee/LO_LAB/Personal/Brent_Schlegel/envs/CITEgeist/lib/python3.10/site-packages/lightning/pytorch/trainer/configuration_validator.py:69: UserWarning: You passed in a `val_dataloader` but have no `validation_step`. Skipping val loop.\n",
      "  rank_zero_warn(\"You passed in a `val_dataloader` but have no `validation_step`. Skipping val loop.\")\n",
      "LOCAL_RANK: 0 - CUDA_VISIBLE_DEVICES: [0]\n",
      "SLURM auto-requeueing enabled. Setting signal handlers.\n",
      "/bgfs/alee/LO_LAB/Personal/Brent_Schlegel/envs/CITEgeist/lib/python3.10/site-packages/lightning/pytorch/loops/fit_loop.py:281: PossibleUserWarning: The number of training batches (1) is smaller than the logging interval Trainer(log_every_n_steps=10). Set a lower value for log_every_n_steps if you want to see logs for the training epoch.\n",
      "  rank_zero_warn(\n"
     ]
    },
    {
     "name": "stdout",
     "output_type": "stream",
     "text": [
      "Sampling global variables, sample: 100%|██████████| 2999/2999 [00:42<00:00, 69.86it/s]_train=1.92e+7]\n",
      "WARNING: saving figure to file figures/spatialumap_Wu_rep_2_GEX.pdf\n",
      "WARNING: saving figure to file figures/showWu_rep_2_GEX_B-cells_abundance.pdf\n",
      "WARNING: saving figure to file figures/showWu_rep_2_GEX_CAFs_abundance.pdf\n",
      "WARNING: saving figure to file figures/showWu_rep_2_GEX_Cancer Epithelial_abundance.pdf\n",
      "WARNING: saving figure to file figures/showWu_rep_2_GEX_Endothelial_abundance.pdf\n",
      "WARNING: saving figure to file figures/showWu_rep_2_GEX_Myeloid_abundance.pdf\n",
      "WARNING: saving figure to file figures/showWu_rep_2_GEX_Normal Epithelial_abundance.pdf\n",
      "WARNING: saving figure to file figures/showWu_rep_2_GEX_PVL_abundance.pdf\n",
      "WARNING: saving figure to file figures/showWu_rep_2_GEX_Plasmablasts_abundance.pdf\n",
      "WARNING: saving figure to file figures/showWu_rep_2_GEX_T-cells_abundance.pdf\n",
      "Figures and results saved for Wu_rep_2_GEX\n"
     ]
    },
    {
     "name": "stderr",
     "output_type": "stream",
     "text": [
      "/bgfs/alee/LO_LAB/Personal/Brent_Schlegel/envs/CITEgeist/lib/python3.10/site-packages/scvi/train/_trainrunner.py:76: UserWarning: `use_gpu` is deprecated in v1.0 and will be removed in v1.1. Please use `accelerator` and `devices` instead.\n",
      "  accelerator, lightning_devices, device = parse_device_args(\n",
      "GPU available: True (cuda), used: True\n",
      "TPU available: False, using: 0 TPU cores\n",
      "IPU available: False, using: 0 IPUs\n",
      "HPU available: False, using: 0 HPUs\n",
      "/bgfs/alee/LO_LAB/Personal/Brent_Schlegel/envs/CITEgeist/lib/python3.10/site-packages/lightning/pytorch/trainer/configuration_validator.py:69: UserWarning: You passed in a `val_dataloader` but have no `validation_step`. Skipping val loop.\n",
      "  rank_zero_warn(\"You passed in a `val_dataloader` but have no `validation_step`. Skipping val loop.\")\n",
      "LOCAL_RANK: 0 - CUDA_VISIBLE_DEVICES: [0]\n",
      "SLURM auto-requeueing enabled. Setting signal handlers.\n",
      "/bgfs/alee/LO_LAB/Personal/Brent_Schlegel/envs/CITEgeist/lib/python3.10/site-packages/lightning/pytorch/loops/fit_loop.py:281: PossibleUserWarning: The number of training batches (1) is smaller than the logging interval Trainer(log_every_n_steps=10). Set a lower value for log_every_n_steps if you want to see logs for the training epoch.\n",
      "  rank_zero_warn(\n"
     ]
    },
    {
     "name": "stdout",
     "output_type": "stream",
     "text": [
      "Epoch 1058/30000:   4%|▎         | 1058/30000 [01:05<29:45, 16.21it/s, v_num=1, elbo_train=6.5e+8] "
     ]
    },
    {
     "name": "stderr",
     "output_type": "stream",
     "text": [
      "IOPub message rate exceeded.\n",
      "The Jupyter server will temporarily stop sending output\n",
      "to the client in order to avoid crashing it.\n",
      "To change this limit, set the config variable\n",
      "`--ServerApp.iopub_msg_rate_limit`.\n",
      "\n",
      "Current values:\n",
      "ServerApp.iopub_msg_rate_limit=1000.0 (msgs/sec)\n",
      "ServerApp.rate_limit_window=3.0 (secs)\n",
      "\n"
     ]
    },
    {
     "name": "stdout",
     "output_type": "stream",
     "text": [
      "Epoch 30000/30000: 100%|██████████| 30000/30000 [31:15<00:00, 15.97it/s, v_num=1, elbo_train=1.93e+7]"
     ]
    },
    {
     "name": "stderr",
     "output_type": "stream",
     "text": [
      "`Trainer.fit` stopped: `max_epochs=30000` reached.\n"
     ]
    },
    {
     "name": "stdout",
     "output_type": "stream",
     "text": [
      "Epoch 30000/30000: 100%|██████████| 30000/30000 [31:15<00:00, 16.00it/s, v_num=1, elbo_train=1.93e+7]\n"
     ]
    },
    {
     "name": "stderr",
     "output_type": "stream",
     "text": [
      "/bgfs/alee/LO_LAB/Personal/Brent_Schlegel/envs/CITEgeist/lib/python3.10/site-packages/scvi/model/base/_pyromixin.py:388: UserWarning: `use_gpu` is deprecated in v1.0 and will be removed in v1.1. Please use `accelerator` and `devices` instead.\n",
      "  _, _, device = parse_device_args(\n"
     ]
    },
    {
     "name": "stdout",
     "output_type": "stream",
     "text": [
      "Sampling local variables, batch: 100%|██████████| 1/1 [00:40<00:00, 40.80s/it]\n",
      "Sampling global variables, sample: 100%|██████████| 2999/2999 [00:42<00:00, 70.03it/s]\n",
      "WARNING: saving figure to file figures/spatialumap_Wu_rep_3_GEX.pdf\n",
      "WARNING: saving figure to file figures/showWu_rep_3_GEX_B-cells_abundance.pdf\n",
      "WARNING: saving figure to file figures/showWu_rep_3_GEX_CAFs_abundance.pdf\n",
      "WARNING: saving figure to file figures/showWu_rep_3_GEX_Cancer Epithelial_abundance.pdf\n",
      "WARNING: saving figure to file figures/showWu_rep_3_GEX_Endothelial_abundance.pdf\n",
      "WARNING: saving figure to file figures/showWu_rep_3_GEX_Myeloid_abundance.pdf\n",
      "WARNING: saving figure to file figures/showWu_rep_3_GEX_Normal Epithelial_abundance.pdf\n",
      "WARNING: saving figure to file figures/showWu_rep_3_GEX_PVL_abundance.pdf\n",
      "WARNING: saving figure to file figures/showWu_rep_3_GEX_Plasmablasts_abundance.pdf\n",
      "WARNING: saving figure to file figures/showWu_rep_3_GEX_T-cells_abundance.pdf\n",
      "Figures and results saved for Wu_rep_3_GEX\n"
     ]
    },
    {
     "name": "stderr",
     "output_type": "stream",
     "text": [
      "/bgfs/alee/LO_LAB/Personal/Brent_Schlegel/envs/CITEgeist/lib/python3.10/site-packages/scvi/train/_trainrunner.py:76: UserWarning: `use_gpu` is deprecated in v1.0 and will be removed in v1.1. Please use `accelerator` and `devices` instead.\n",
      "  accelerator, lightning_devices, device = parse_device_args(\n",
      "GPU available: True (cuda), used: True\n",
      "TPU available: False, using: 0 TPU cores\n",
      "IPU available: False, using: 0 IPUs\n",
      "HPU available: False, using: 0 HPUs\n",
      "/bgfs/alee/LO_LAB/Personal/Brent_Schlegel/envs/CITEgeist/lib/python3.10/site-packages/lightning/pytorch/trainer/configuration_validator.py:69: UserWarning: You passed in a `val_dataloader` but have no `validation_step`. Skipping val loop.\n",
      "  rank_zero_warn(\"You passed in a `val_dataloader` but have no `validation_step`. Skipping val loop.\")\n",
      "LOCAL_RANK: 0 - CUDA_VISIBLE_DEVICES: [0]\n",
      "SLURM auto-requeueing enabled. Setting signal handlers.\n",
      "/bgfs/alee/LO_LAB/Personal/Brent_Schlegel/envs/CITEgeist/lib/python3.10/site-packages/lightning/pytorch/loops/fit_loop.py:281: PossibleUserWarning: The number of training batches (1) is smaller than the logging interval Trainer(log_every_n_steps=10). Set a lower value for log_every_n_steps if you want to see logs for the training epoch.\n",
      "  rank_zero_warn(\n"
     ]
    },
    {
     "name": "stdout",
     "output_type": "stream",
     "text": [
      "Epoch 30000/30000: 100%|██████████| 30000/30000 [30:54<00:00, 15.80it/s, v_num=1, elbo_train=1.93e+7] "
     ]
    },
    {
     "name": "stderr",
     "output_type": "stream",
     "text": [
      "`Trainer.fit` stopped: `max_epochs=30000` reached.\n"
     ]
    },
    {
     "name": "stdout",
     "output_type": "stream",
     "text": [
      "Epoch 30000/30000: 100%|██████████| 30000/30000 [30:54<00:00, 16.18it/s, v_num=1, elbo_train=1.93e+7]\n"
     ]
    },
    {
     "name": "stderr",
     "output_type": "stream",
     "text": [
      "/bgfs/alee/LO_LAB/Personal/Brent_Schlegel/envs/CITEgeist/lib/python3.10/site-packages/scvi/model/base/_pyromixin.py:388: UserWarning: `use_gpu` is deprecated in v1.0 and will be removed in v1.1. Please use `accelerator` and `devices` instead.\n",
      "  _, _, device = parse_device_args(\n"
     ]
    },
    {
     "name": "stdout",
     "output_type": "stream",
     "text": [
      "Sampling local variables, batch:   0%|          | 0/1 [00:00<?, ?it/s]"
     ]
    }
   ],
   "source": [
    "# Directories and paths\n",
    "input_folder  = \"/bgfs/alee/LO_LAB/Personal/Brent_Schlegel/Projects/Wu_Visium/Simulations/larger_ref/replicates/mixed/h5ad_objects\"\n",
    "output_folder = \"/bgfs/alee/LO_LAB/Personal/Brent_Schlegel/Projects/Wu_Visium/Simulations/larger_ref/cell2location/mixed\"\n",
    "\n",
    "# Prepare reference signatures\n",
    "if 'means_per_cluster_mu_fg' in adata_ref.varm.keys():\n",
    "    inf_aver = adata_ref.varm['means_per_cluster_mu_fg'][[\n",
    "        f'means_per_cluster_mu_fg_{i}' for i in adata_ref.uns['mod']['factor_names']\n",
    "    ]].copy()\n",
    "else:\n",
    "    inf_aver = adata_ref.var[[f'means_per_cluster_mu_fg_{i}' for i in adata_ref.uns['mod']['factor_names']]].copy()\n",
    "inf_aver.columns = adata_ref.uns['mod']['factor_names']\n",
    "\n",
    "# Iterate over all replicates\n",
    "replicates = [f for f in os.listdir(input_folder) if f.endswith(\"GEX.h5ad\")]\n",
    "\n",
    "for replicate_name in replicates:\n",
    "    replicate_path = os.path.join(input_folder, replicate_name)\n",
    "    run_name = os.path.join(output_folder, f\"cell2location_map_{replicate_name.split('_')[2]}\")\n",
    "\n",
    "    # Load Visium query dataset (replicate)\n",
    "    adata_vis_0 = sc.read_h5ad(replicate_path)\n",
    "\n",
    "    # Prepare `adata_vis_0` for cell2location\n",
    "    adata_vis_0.X_norm = adata_vis_0.X\n",
    "    adata_vis_0.X = np.expm1(adata_vis_0.X_norm).round()\n",
    "\n",
    "    # Find shared genes and subset\n",
    "    intersect = np.intersect1d(adata_vis_0.var_names, inf_aver.index)\n",
    "    adata_vis_0 = adata_vis_0[:, adata_vis_0.var_names.isin(intersect)].copy()\n",
    "    inf_aver = inf_aver.loc[inf_aver.index.isin(intersect), :].copy()\n",
    "\n",
    "    # Ensure matching gene order\n",
    "    adata_vis_0.var_names = adata_vis_0.var_names.sort_values()\n",
    "    inf_aver = inf_aver.sort_index()\n",
    "\n",
    "    # Setup cell2location\n",
    "    cell2location.models.Cell2location.setup_anndata(adata=adata_vis_0)\n",
    "\n",
    "    # Create and train the model\n",
    "    mod = cell2location.models.Cell2location(\n",
    "        adata_vis_0,\n",
    "        cell_state_df=inf_aver,\n",
    "        N_cells_per_location=5,\n",
    "        detection_alpha=200,\n",
    "    )\n",
    "    mod.train(max_epochs=30000, batch_size=None, train_size=1, use_gpu=True)\n",
    "\n",
    "    # Export posterior and save results\n",
    "    adata_vis_0 = mod.export_posterior(\n",
    "        adata_vis_0, sample_kwargs={'num_samples': 3000, 'batch_size': mod.adata.n_obs, 'use_gpu': True}\n",
    "    )\n",
    "    mod.save(f\"{run_name}\", overwrite=True)\n",
    "\n",
    "    # Compute expected expression per cell type\n",
    "    expected_dict = mod.module.model.compute_expected_per_cell_type(\n",
    "        mod.samples[\"post_sample_q05\"], mod.adata_manager\n",
    "    )\n",
    "\n",
    "    # Add to anndata layers\n",
    "    for i, n in enumerate(mod.factor_names_):\n",
    "        adata_vis_0.layers[n] = expected_dict['mu'][i]\n",
    "\n",
    "    # Save AnnData with results\n",
    "    adata_file = f\"{run_name}/sp.h5ad\"\n",
    "    adata_vis_0.write(adata_file)\n",
    "\n",
    "    # Add cell abundance quantile to `obs`\n",
    "    adata_vis_0.obs[adata_vis_0.uns['mod']['factor_names']] = adata_vis_0.obsm['q05_cell_abundance_w_sf']\n",
    "\n",
    "    # Save proportions\n",
    "    df = adata_vis_0.obsm['q95_cell_abundance_w_sf']\n",
    "    total_abundance = df.sum(axis=1)\n",
    "    proportions = df.div(total_abundance, axis=0)\n",
    "    proportions.columns = [col.split('_')[-1] for col in proportions.columns]\n",
    "    proportions.reset_index(inplace=True)\n",
    "    proportions.rename(columns={'index': 'spot'}, inplace=True)\n",
    "    proportions.to_csv(f\"{run_name}/cell2loc_deconv_predictions.csv\", index=False)\n",
    "\n",
    "    # Export layers to CSV\n",
    "    layers_output_dir = f\"{run_name}/layers\"\n",
    "    os.makedirs(layers_output_dir, exist_ok=True)\n",
    "    for layer_name in adata_vis_0.layers.keys():\n",
    "        layer_data = adata_vis_0.layers[layer_name].toarray()\n",
    "        df = pd.DataFrame(layer_data, index=adata_vis_0.obs.index, columns=adata_vis_0.var.index)\n",
    "        df.to_csv(f\"{layers_output_dir}/{layer_name}_layer.csv\")\n",
    "\n",
    "    # Generate and save plots\n",
    "    fig_dir = f\"{run_name}/plots\"\n",
    "    os.makedirs(fig_dir, exist_ok=True)\n",
    "\n",
    "    # Extract a simplified replicate name\n",
    "    simplified_name = os.path.splitext(os.path.basename(replicate_name))[0]\n",
    "\n",
    "    # UMAP visualization\n",
    "    sc.pl.embedding(\n",
    "        adata_vis_0,\n",
    "        basis=\"spatial\",\n",
    "        color=adata_vis_0.uns['mod']['factor_names'],\n",
    "        cmap=\"magma\",\n",
    "        ncols=2,\n",
    "        show=False,\n",
    "        save=f\"umap_{simplified_name}.pdf\",\n",
    "    )\n",
    "\n",
    "    # Spatial abundance visualization\n",
    "    for ct in adata_vis_0.uns['mod']['factor_names']:\n",
    "        sc.pl.spatial(\n",
    "            adata_vis_0,\n",
    "            color=[ct],\n",
    "            spot_size=1,\n",
    "            cmap=\"magma\",\n",
    "            size=1.3,\n",
    "            show=False,\n",
    "            save=f\"{simplified_name}_{ct}_abundance.pdf\",\n",
    "        )\n",
    "\n",
    "    print(f\"Figures and results saved for {simplified_name}\")"
   ]
  }
 ],
 "metadata": {
  "kernelspec": {
   "display_name": "Python 3 (ipykernel)",
   "language": "python",
   "name": "python3"
  },
  "language_info": {
   "codemirror_mode": {
    "name": "ipython",
    "version": 3
   },
   "file_extension": ".py",
   "mimetype": "text/x-python",
   "name": "python",
   "nbconvert_exporter": "python",
   "pygments_lexer": "ipython3",
   "version": "3.10.15"
  }
 },
 "nbformat": 4,
 "nbformat_minor": 5
}
